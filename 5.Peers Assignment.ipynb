{
    "cells": [
        {
            "cell_type": "markdown",
            "id": "bcff9020-30ce-4145-9a4d-45666f4cabbd",
            "metadata": {},
            "source": "Connect to the database\n----------------------------------------"
        },
        {
            "cell_type": "code",
            "execution_count": 1,
            "id": "1e54fad4-f210-4501-b57b-ed58252ff946",
            "metadata": {},
            "outputs": [],
            "source": "# These libraries are pre-installed in SN Labs. If running in another environment please uncomment lines below to install them:\n#!pip install --force-reinstall ibm_db==3.1.0 ibm_db_sa==0.3.3\n# Ensure we don't load_ext with sqlalchemy>=1.4 (incompadible)\n#!pip uninstall sqlalchemy==1.4 -y && pip install sqlalchemy==1.3.24\n#!pip install ipython-sql"
        },
        {
            "cell_type": "code",
            "execution_count": 2,
            "id": "ac202925-6171-41e3-bf6a-cab9102342f6",
            "metadata": {},
            "outputs": [],
            "source": "%load_ext sql"
        },
        {
            "cell_type": "code",
            "execution_count": 3,
            "id": "1f8def32-2b33-4247-a559-8f05c9a78222",
            "metadata": {},
            "outputs": [],
            "source": "# Remember the connection string is of the format:\n# %sql ibm_db_sa://my-username:my-password@my-hostname:my-port/my-db-name?security=SSL\n# Enter the connection string for your Db2 on Cloud database instance below\n\n%sql ibm_db_sa://prj63437:HHrZHS29hKohRSpb@19af6446-6171-4641-8aba-9dcff8e1b6ff.c1ogj3sd0tgtu0lqde00.databases.appdomain.cloud:30699/bludb?security=SSL"
        },
        {
            "cell_type": "markdown",
            "id": "b51d8257-ddfb-470a-aa75-b4040958d7d6",
            "metadata": {
                "tags": []
            },
            "source": "Problem 1\n------------------\nFind the total number of crimes recorded in the CRIME table."
        },
        {
            "cell_type": "code",
            "execution_count": 4,
            "id": "78927f73-494c-455c-806f-1455d9bece88",
            "metadata": {},
            "outputs": [
                {
                    "name": "stdout",
                    "output_type": "stream",
                    "text": " * ibm_db_sa://prj63437:***@19af6446-6171-4641-8aba-9dcff8e1b6ff.c1ogj3sd0tgtu0lqde00.databases.appdomain.cloud:30699/bludb\nDone.\n"
                },
                {
                    "data": {
                        "text/html": "<table>\n    <tr>\n        <th>total_number_crimes</th>\n    </tr>\n    <tr>\n        <td>533</td>\n    </tr>\n</table>",
                        "text/plain": "[(533,)]"
                    },
                    "execution_count": 4,
                    "metadata": {},
                    "output_type": "execute_result"
                }
            ],
            "source": "%sql select count(CASE_NUMBER) as total_number_crimes from CHICAGO_CRIME_DATA"
        },
        {
            "cell_type": "markdown",
            "id": "92598afb-b5a0-418e-ae24-aba9c3087226",
            "metadata": {},
            "source": "Problem 2\n---------------\nList community areas with per capita income less than 11000."
        },
        {
            "cell_type": "code",
            "execution_count": 5,
            "id": "7d7696c3-47e0-4b69-b36a-92ed4e55e564",
            "metadata": {},
            "outputs": [
                {
                    "name": "stdout",
                    "output_type": "stream",
                    "text": " * ibm_db_sa://prj63437:***@19af6446-6171-4641-8aba-9dcff8e1b6ff.c1ogj3sd0tgtu0lqde00.databases.appdomain.cloud:30699/bludb\nDone.\n"
                },
                {
                    "data": {
                        "text/html": "<table>\n    <tr>\n        <th>community_area_name</th>\n        <th>per_capita_income</th>\n    </tr>\n    <tr>\n        <td>West Garfield Park</td>\n        <td>10934</td>\n    </tr>\n    <tr>\n        <td>South Lawndale</td>\n        <td>10402</td>\n    </tr>\n    <tr>\n        <td>Fuller Park</td>\n        <td>10432</td>\n    </tr>\n    <tr>\n        <td>Riverdale</td>\n        <td>8201</td>\n    </tr>\n</table>",
                        "text/plain": "[('West Garfield Park', 10934),\n ('South Lawndale', 10402),\n ('Fuller Park', 10432),\n ('Riverdale', 8201)]"
                    },
                    "execution_count": 5,
                    "metadata": {},
                    "output_type": "execute_result"
                }
            ],
            "source": "%sql select COMMUNITY_AREA_NAME, PER_CAPITA_INCOME from CENSUS_DATA where PER_CAPITA_INCOME < 11000"
        },
        {
            "cell_type": "markdown",
            "id": "8e6f8883-94b7-4fa5-9897-526effcbd7c6",
            "metadata": {},
            "source": "Problem 3\n-----------\nList all case numbers for crimes involving minors?(children are not considered minors for the purposes of crime analysis)"
        },
        {
            "cell_type": "code",
            "execution_count": 6,
            "id": "f4613442-4b59-4509-9cd6-9def1d89a6e2",
            "metadata": {},
            "outputs": [
                {
                    "name": "stdout",
                    "output_type": "stream",
                    "text": " * ibm_db_sa://prj63437:***@19af6446-6171-4641-8aba-9dcff8e1b6ff.c1ogj3sd0tgtu0lqde00.databases.appdomain.cloud:30699/bludb\nDone.\n"
                },
                {
                    "data": {
                        "text/html": "<table>\n    <tr>\n        <th>case_number</th>\n    </tr>\n    <tr>\n        <td>HL266884</td>\n    </tr>\n    <tr>\n        <td>HK238408</td>\n    </tr>\n</table>",
                        "text/plain": "[('HL266884',), ('HK238408',)]"
                    },
                    "execution_count": 6,
                    "metadata": {},
                    "output_type": "execute_result"
                }
            ],
            "source": "%sql select CASE_NUMBER from CHICAGO_CRIME_DATA \\\nwhere DESCRIPTION LIKE '%MINOR'"
        },
        {
            "cell_type": "markdown",
            "id": "4a6bac40-f425-4c60-9f7d-5852609742ea",
            "metadata": {},
            "source": "Problem 4\n--------------\nList all kidnapping crimes involving a child?"
        },
        {
            "cell_type": "code",
            "execution_count": 7,
            "id": "7752662d-a32f-4c10-90f6-b0a07e6c8e4c",
            "metadata": {},
            "outputs": [
                {
                    "name": "stdout",
                    "output_type": "stream",
                    "text": " * ibm_db_sa://prj63437:***@19af6446-6171-4641-8aba-9dcff8e1b6ff.c1ogj3sd0tgtu0lqde00.databases.appdomain.cloud:30699/bludb\nDone.\n"
                },
                {
                    "data": {
                        "text/html": "<table>\n    <tr>\n        <th>id</th>\n        <th>case_number</th>\n        <th>DATE</th>\n        <th>block</th>\n        <th>iucr</th>\n        <th>primary_type</th>\n        <th>description</th>\n        <th>location_description</th>\n        <th>arrest</th>\n        <th>domestic</th>\n        <th>beat</th>\n        <th>district</th>\n        <th>ward</th>\n        <th>community_area_number</th>\n        <th>fbicode</th>\n        <th>x_coordinate</th>\n        <th>y_coordinate</th>\n        <th>YEAR</th>\n        <th>latitude</th>\n        <th>longitude</th>\n        <th>location</th>\n    </tr>\n</table>",
                        "text/plain": "[]"
                    },
                    "execution_count": 7,
                    "metadata": {},
                    "output_type": "execute_result"
                }
            ],
            "source": "%sql select * from CHICAGO_CRIME_DATA \\\nwhere DESCRIPTION LIKE '%MINOR%' and PRIMARY_TYPE LIKE '%KIDNAPPING%'"
        },
        {
            "cell_type": "markdown",
            "id": "442f9431-8c34-43dc-98fb-48096249afc4",
            "metadata": {},
            "source": "Problem 5\n---------\nWhat kinds of crimes were recorded at schools?"
        },
        {
            "cell_type": "code",
            "execution_count": 8,
            "id": "3625e62e-3d5f-4115-9a80-99723c40a8c9",
            "metadata": {},
            "outputs": [
                {
                    "name": "stdout",
                    "output_type": "stream",
                    "text": " * ibm_db_sa://prj63437:***@19af6446-6171-4641-8aba-9dcff8e1b6ff.c1ogj3sd0tgtu0lqde00.databases.appdomain.cloud:30699/bludb\nDone.\n"
                },
                {
                    "data": {
                        "text/html": "<table>\n    <tr>\n        <th>primary_type</th>\n    </tr>\n    <tr>\n        <td>ASSAULT</td>\n    </tr>\n    <tr>\n        <td>BATTERY</td>\n    </tr>\n    <tr>\n        <td>CRIMINAL DAMAGE</td>\n    </tr>\n    <tr>\n        <td>CRIMINAL TRESPA</td>\n    </tr>\n    <tr>\n        <td>NARCOTICS</td>\n    </tr>\n    <tr>\n        <td>PUBLIC PEACE VI</td>\n    </tr>\n</table>",
                        "text/plain": "[('ASSAULT',),\n ('BATTERY',),\n ('CRIMINAL DAMAGE',),\n ('CRIMINAL TRESPA',),\n ('NARCOTICS',),\n ('PUBLIC PEACE VI',)]"
                    },
                    "execution_count": 8,
                    "metadata": {},
                    "output_type": "execute_result"
                }
            ],
            "source": "%sql SELECT DISTINCT(PRIMARY_TYPE) FROM CHICAGO_CRIME_DATA \\\nWHERE LOCATION_DESCRIPTION LIKE '%SCHOOL%'"
        },
        {
            "cell_type": "markdown",
            "id": "13acaac8-8e01-4313-a167-929ed281c47b",
            "metadata": {},
            "source": "Problem 6\n------------\nList the average safety score for each type of school."
        },
        {
            "cell_type": "code",
            "execution_count": 9,
            "id": "5e485886-3b8a-49f7-856b-9e7b09593cc8",
            "metadata": {},
            "outputs": [
                {
                    "name": "stdout",
                    "output_type": "stream",
                    "text": " * ibm_db_sa://prj63437:***@19af6446-6171-4641-8aba-9dcff8e1b6ff.c1ogj3sd0tgtu0lqde00.databases.appdomain.cloud:30699/bludb\n(ibm_db_dbi.ProgrammingError) ibm_db_dbi::ProgrammingError: SQLNumResultCols failed: [IBM][CLI Driver][DB2/LINUXX8664] SQL0206N  \"Elementary, Middle or High School\" is not valid in the context where it is used.  SQLSTATE=42703 SQLCODE=-206\n[SQL: SELECT \"Elementary, Middle or High School\" , AVG(safety_score) FROM CHICAGO_PUBLIC_SCHOOLS\nGROUP BY \"Elementary, Middle or High School\"]\n(Background on this error at: http://sqlalche.me/e/13/f405)\n"
                }
            ],
            "source": "%%sql SELECT \"Elementary, Middle or High School\", AVG(safety_score) FROM CHICAGO_PUBLIC_SCHOOLS\nGROUP BY \"Elementary, Middle or High School\""
        },
        {
            "cell_type": "markdown",
            "id": "4f5b9739-735b-4355-aa7e-44143eac6f2d",
            "metadata": {},
            "source": "Problem 7\n-------------\nList 5 community areas with highest % of households below poverty line"
        },
        {
            "cell_type": "code",
            "execution_count": 10,
            "id": "15fc8a76-d15d-4ba2-8bef-6b083639d0ae",
            "metadata": {},
            "outputs": [
                {
                    "name": "stdout",
                    "output_type": "stream",
                    "text": " * ibm_db_sa://prj63437:***@19af6446-6171-4641-8aba-9dcff8e1b6ff.c1ogj3sd0tgtu0lqde00.databases.appdomain.cloud:30699/bludb\nDone.\n"
                },
                {
                    "data": {
                        "text/html": "<table>\n    <tr>\n        <th>community_area_name</th>\n        <th>percent_households_below_poverty</th>\n    </tr>\n    <tr>\n        <td>Riverdale</td>\n        <td>56.5</td>\n    </tr>\n    <tr>\n        <td>Fuller Park</td>\n        <td>51.2</td>\n    </tr>\n    <tr>\n        <td>Englewood</td>\n        <td>46.6</td>\n    </tr>\n    <tr>\n        <td>North Lawndale</td>\n        <td>43.1</td>\n    </tr>\n    <tr>\n        <td>East Garfield Park</td>\n        <td>42.4</td>\n    </tr>\n</table>",
                        "text/plain": "[('Riverdale', Decimal('56.5')),\n ('Fuller Park', Decimal('51.2')),\n ('Englewood', Decimal('46.6')),\n ('North Lawndale', Decimal('43.1')),\n ('East Garfield Park', Decimal('42.4'))]"
                    },
                    "execution_count": 10,
                    "metadata": {},
                    "output_type": "execute_result"
                }
            ],
            "source": "%sql SELECT COMMUNITY_AREA_NAME, PERCENT_HOUSEHOLDS_BELOW_POVERTY FROM CENSUS_DATA \\\nORDER BY PERCENT_HOUSEHOLDS_BELOW_POVERTY DESC LIMIT 5;"
        },
        {
            "cell_type": "markdown",
            "id": "50e49149-cd97-4533-83e9-0794c5f269dd",
            "metadata": {},
            "source": "Problem 8\n--------------\nWhich community area is most crime prone?"
        },
        {
            "cell_type": "code",
            "execution_count": 11,
            "id": "66cf6ac8-c8a2-4cbc-a657-f12e45cff68d",
            "metadata": {},
            "outputs": [
                {
                    "name": "stdout",
                    "output_type": "stream",
                    "text": " * ibm_db_sa://prj63437:***@19af6446-6171-4641-8aba-9dcff8e1b6ff.c1ogj3sd0tgtu0lqde00.databases.appdomain.cloud:30699/bludb\nDone.\n"
                },
                {
                    "data": {
                        "text/html": "<table>\n    <tr>\n        <th>1</th>\n        <th>carn</th>\n    </tr>\n    <tr>\n        <td>8</td>\n        <td>Woodlawn</td>\n    </tr>\n</table>",
                        "text/plain": "[(8, 'Woodlawn')]"
                    },
                    "execution_count": 11,
                    "metadata": {},
                    "output_type": "execute_result"
                }
            ],
            "source": "%sql SELECT COUNT(*), COMMUNITY_AREA_NAME CARN FROM CENSUS_DATA C, CHICAGO_CRIME_DATA CR \\\nWHERE C.COMMUNITY_AREA_NUMBER=CR.COMMUNITY_AREA_NUMBER \\\nGROUP BY COMMUNITY_AREA_NAME \\\nORDER BY CARN DESC LIMIT 1"
        },
        {
            "cell_type": "markdown",
            "id": "c53066ab-35c0-49d4-8050-3080109d41cc",
            "metadata": {},
            "source": "Problem 9\n---------\nUse a sub-query to find the name of the community area with highest hardship index"
        },
        {
            "cell_type": "code",
            "execution_count": 12,
            "id": "d35a97a3-a671-4be5-9cc2-cd667c6c2bf6",
            "metadata": {},
            "outputs": [
                {
                    "name": "stdout",
                    "output_type": "stream",
                    "text": " * ibm_db_sa://prj63437:***@19af6446-6171-4641-8aba-9dcff8e1b6ff.c1ogj3sd0tgtu0lqde00.databases.appdomain.cloud:30699/bludb\nDone.\n"
                },
                {
                    "data": {
                        "text/html": "<table>\n    <tr>\n        <th>community_area_name</th>\n        <th>hardship_index</th>\n    </tr>\n    <tr>\n        <td>Riverdale</td>\n        <td>98</td>\n    </tr>\n</table>",
                        "text/plain": "[('Riverdale', 98)]"
                    },
                    "execution_count": 12,
                    "metadata": {},
                    "output_type": "execute_result"
                }
            ],
            "source": "%sql SELECT COMMUNITY_AREA_NAME, HARDSHIP_INDEX FROM CENSUS_DATA \\\nORDER BY HARDSHIP_INDEX DESC NULLS LAST LIMIT 1"
        },
        {
            "cell_type": "markdown",
            "id": "5c892182-b3bd-4521-98e4-e9b85dbf8f24",
            "metadata": {},
            "source": "Problem 10\n-------------\nUse a sub-query to determine the Community Area Name with most number of crimes?"
        },
        {
            "cell_type": "code",
            "execution_count": 13,
            "id": "a3d4d0f5-b717-4bb1-a141-9006901ef7be",
            "metadata": {},
            "outputs": [
                {
                    "name": "stdout",
                    "output_type": "stream",
                    "text": " * ibm_db_sa://prj63437:***@19af6446-6171-4641-8aba-9dcff8e1b6ff.c1ogj3sd0tgtu0lqde00.databases.appdomain.cloud:30699/bludb\nDone.\n"
                },
                {
                    "data": {
                        "text/html": "<table>\n    <tr>\n        <th>community_area_name</th>\n    </tr>\n    <tr>\n        <td>Austin</td>\n    </tr>\n</table>",
                        "text/plain": "[('Austin',)]"
                    },
                    "execution_count": 13,
                    "metadata": {},
                    "output_type": "execute_result"
                }
            ],
            "source": "%%sql select COMMUNITY_AREA_NAME from CENSUS_DATA where COMMUNITY_AREA_NUMBER=(\nselect COMMUNITY_AREA_NUMBER from CHICAGO_CRIME_DATA\n where COMMUNITY_AREA_NUMBER GROUP BY COMMUNITY_AREA_NUMBER ORDER BY COUNT(*) DESC LIMIT 1)"
        },
        {
            "cell_type": "code",
            "execution_count": null,
            "id": "70eda56b-d87d-4e51-8007-214f302461eb",
            "metadata": {},
            "outputs": [],
            "source": ""
        }
    ],
    "metadata": {
        "kernelspec": {
            "display_name": "Python 3.9",
            "language": "python",
            "name": "python3"
        },
        "language_info": {
            "codemirror_mode": {
                "name": "ipython",
                "version": 3
            },
            "file_extension": ".py",
            "mimetype": "text/x-python",
            "name": "python",
            "nbconvert_exporter": "python",
            "pygments_lexer": "ipython3",
            "version": "3.9.12"
        }
    },
    "nbformat": 4,
    "nbformat_minor": 5
}